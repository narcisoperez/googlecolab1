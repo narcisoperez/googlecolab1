{
  "nbformat": 4,
  "nbformat_minor": 0,
  "metadata": {
    "colab": {
      "name": "PruebaNN_170821.ipynb",
      "provenance": [],
      "collapsed_sections": [],
      "include_colab_link": true
    },
    "kernelspec": {
      "name": "python3",
      "display_name": "Python 3"
    },
    "language_info": {
      "name": "python"
    }
  },
  "cells": [
    {
      "cell_type": "markdown",
      "metadata": {
        "id": "view-in-github",
        "colab_type": "text"
      },
      "source": [
        "<a href=\"https://colab.research.google.com/github/narcisoperez/googlecolab1/blob/main/PruebaNN_170821.ipynb\" target=\"_parent\"><img src=\"https://colab.research.google.com/assets/colab-badge.svg\" alt=\"Open In Colab\"/></a>"
      ]
    },
    {
      "cell_type": "code",
      "metadata": {
        "id": "fTIv3TxsLPNf"
      },
      "source": [
        "import numpy as np\n",
        "\n",
        "def sigmoid(x):\n",
        "    return 1.0/(1.0 + np.exp(-x))\n",
        " \n",
        "def sigmoid_derivada(x):\n",
        "    return sigmoid(x)*(1.0-sigmoid(x))\n",
        " \n",
        "def tanh(x):\n",
        "    return np.tanh(x)\n",
        " \n",
        "def tanh_derivada(x):\n",
        "    return 1.0 - x**2\n",
        " \n",
        "\n",
        "class NeuralNetwork:\n",
        " \n",
        "    def __init__(self, layers, activation='tanh'):\n",
        "        if activation == 'sigmoid':\n",
        "            self.activation = sigmoid\n",
        "            self.activation_prime = sigmoid_derivada\n",
        "        elif activation == 'tanh':\n",
        "            self.activation = tanh\n",
        "            self.activation_prime = tanh_derivada\n",
        " \n",
        "        # inicializo los pesos\n",
        "        self.weights = []\n",
        "        self.deltas = []\n",
        "        # capas = [2,3,2]\n",
        "        # rando de pesos varia entre (-1,1)\n",
        "        # asigno valores aleatorios a capa de entrada y capa oculta\n",
        "        for i in range(1, len(layers) - 1):\n",
        "            r = 2*np.random.random((layers[i-1] + 1, layers[i] + 1)) -1\n",
        "            self.weights.append(r)\n",
        "        # asigno aleatorios a capa de salida\n",
        "        r = 2*np.random.random( (layers[i] + 1, layers[i+1])) - 1\n",
        "        self.weights.append(r)\n",
        " \n",
        "    def fit(self, X, y, learning_rate=0.2, epochs=100000):\n",
        "        # Agrego columna de unos a las entradas X\n",
        "        # Con esto agregamos la unidad de Bias a la capa de entrada\n",
        "        ones = np.atleast_2d(np.ones(X.shape[0]))\n",
        "        X = np.concatenate((ones.T, X), axis=1)\n",
        "        \n",
        "        for k in range(epochs):\n",
        "            i = np.random.randint(X.shape[0])\n",
        "            a = [X[i]]\n",
        " \n",
        "            for l in range(len(self.weights)):\n",
        "                    dot_value = np.dot(a[l], self.weights[l])\n",
        "                    activation = self.activation(dot_value)\n",
        "                    a.append(activation)\n",
        "            # Calculo la diferencia en la capa de salida y el valor obtenido\n",
        "            error = y[i] - a[-1]\n",
        "            deltas = [error * self.activation_prime(a[-1])]\n",
        "            \n",
        "            # Empezamos en el segundo layer hasta el ultimo\n",
        "            # (Una capa anterior a la de salida)\n",
        "            for l in range(len(a) - 2, 0, -1): \n",
        "                deltas.append(deltas[-1].dot(self.weights[l].T)*self.activation_prime(a[l]))\n",
        "            self.deltas.append(deltas)\n",
        " \n",
        "            # invertir\n",
        "            # [level3(output)->level2(hidden)]  => [level2(hidden)->level3(output)]\n",
        "            deltas.reverse()\n",
        " \n",
        "            # backpropagation\n",
        "            # 1. Multiplcar los delta de salida con las activaciones de entrada \n",
        "            #    para obtener el gradiente del peso.\n",
        "            # 2. actualizo el peso restandole un porcentaje del gradiente\n",
        "            for i in range(len(self.weights)):\n",
        "                layer = np.atleast_2d(a[i])\n",
        "                delta = np.atleast_2d(deltas[i])\n",
        "                self.weights[i] += learning_rate * layer.T.dot(delta)\n",
        " \n",
        "            if k % 10000 == 0: print('epochs:', k)\n",
        " \n",
        "    def predict(self, x): \n",
        "        ones = np.atleast_2d(np.ones(x.shape[0]))\n",
        "        a = np.concatenate((np.ones(1).T, np.array(x)), axis=0)\n",
        "        for l in range(0, len(self.weights)):\n",
        "            a = self.activation(np.dot(a, self.weights[l]))\n",
        "        return a\n",
        " \n",
        "    def print_weights(self):\n",
        "        print(\"LISTADO PESOS DE CONEXIONES\")\n",
        "        for i in range(len(self.weights)):\n",
        "            print(self.weights[i])\n",
        " \n",
        "    def get_deltas(self):\n",
        "        return self.deltas\n",
        "\n"
      ],
      "execution_count": null,
      "outputs": []
    },
    {
      "cell_type": "code",
      "metadata": {
        "colab": {
          "base_uri": "https://localhost:8080/"
        },
        "id": "n6tQ-4NGOd-f",
        "outputId": "60270cce-636d-4a95-e8a2-0ced590a7102"
      },
      "source": [
        "nn = NeuralNetwork([2,3,2],activation ='tanh')\n",
        "X = np.array([[0, 0],   # sin obstaculos\n",
        "              [0, 1],   # sin obstaculos\n",
        "              [0, -1],  # sin obstaculos\n",
        "              [0.5, 1], # obstaculo detectado a derecha\n",
        "              [0.5,-1], # obstaculo a izq\n",
        "              [1,1],    # demasiado cerca a derecha\n",
        "              [1,-1]])  # demasiado cerca a izq\n",
        " \n",
        "y = np.array([[0,1],    # avanzar\n",
        "              [0,1],    # avanzar\n",
        "              [0,1],    # avanzar\n",
        "              [-1,1],   # giro izquierda\n",
        "              [1,1],    # giro derecha\n",
        "              [0,-1],   # retroceder\n",
        "              [0,-1]])  # retroceder\n",
        "nn.fit(X, y, learning_rate=0.03,epochs=15001)\n",
        " \n",
        "index=0\n",
        "for e in X:\n",
        "    print(\"X:\",e,\"y:\",y[index],\"Network:\",nn.predict(e))\n",
        "    index=index+1"
      ],
      "execution_count": null,
      "outputs": [
        {
          "output_type": "stream",
          "text": [
            "epochs: 0\n",
            "epochs: 10000\n",
            "X: [0. 0.] y: [0 1] Network: [-4.88763576e-04  9.99989266e-01]\n",
            "X: [0. 1.] y: [0 1] Network: [0.00224039 0.99997864]\n",
            "X: [ 0. -1.] y: [0 1] Network: [-7.90585206e-04  9.99962549e-01]\n",
            "X: [0.5 1. ] y: [-1  1] Network: [-0.9510794   0.95136794]\n",
            "X: [ 0.5 -1. ] y: [1 1] Network: [0.95946678 0.95060754]\n",
            "X: [1. 1.] y: [ 0 -1] Network: [-0.00902036 -0.96168334]\n",
            "X: [ 1. -1.] y: [ 0 -1] Network: [ 0.00700454 -0.96467258]\n"
          ],
          "name": "stdout"
        }
      ]
    },
    {
      "cell_type": "code",
      "metadata": {
        "colab": {
          "base_uri": "https://localhost:8080/",
          "height": 297
        },
        "id": "RPvINPBcNXQ9",
        "outputId": "6056a601-a9cb-4e87-df39-62728714dc42"
      },
      "source": [
        "import matplotlib.pyplot as plt\n",
        " \n",
        "deltas = nn.get_deltas()\n",
        "valores=[]\n",
        "index=0\n",
        "for arreglo in deltas:\n",
        "    valores.append(arreglo[1][0] + arreglo[1][1])\n",
        "    index=index+1\n",
        " \n",
        "plt.plot(range(len(valores)), valores, color='b')\n",
        "plt.ylim([0, 1])\n",
        "plt.ylabel('Cost')\n",
        "plt.xlabel('Epochs')\n",
        "plt.tight_layout()\n",
        "plt.show()"
      ],
      "execution_count": null,
      "outputs": [
        {
          "output_type": "display_data",
          "data": {
            "image/png": "[encoded data removed]",
            "text/plain": [
              "<Figure size 432x288 with 1 Axes>"
            ]
          },
          "metadata": {
            "tags": [],
            "needs_background": "light"
          }
        }
      ]
    },
    {
      "cell_type": "code",
      "metadata": {
        "colab": {
          "base_uri": "https://localhost:8080/"
        },
        "id": "T04nJRJbOiRb",
        "outputId": "99764f6d-91f1-4fae-959b-563e3cfb5973"
      },
      "source": [
        "X1 = np.array([0, 0])\n",
        "\n",
        "nn.predict(X1)"
      ],
      "execution_count": null,
      "outputs": [
        {
          "output_type": "execute_result",
          "data": {
            "text/plain": [
              "array([-4.88763576e-04,  9.99989266e-01])"
            ]
          },
          "metadata": {
            "tags": []
          },
          "execution_count": 16
        }
      ]
    },
    {
      "cell_type": "code",
      "metadata": {
        "colab": {
          "base_uri": "https://localhost:8080/"
        },
        "id": "Fa9fiPM43Hpi",
        "outputId": "8448391b-f0c6-4fde-de38-101978a7d0a9"
      },
      "source": [
        "# example making new class predictions for a classification problem\n",
        "from keras.models import Sequential\n",
        "from keras.layers import Dense\n",
        "from sklearn.datasets import make_blobs\n",
        "from sklearn.preprocessing import MinMaxScaler\n",
        "# generate 2d classification dataset\n",
        "X, y = make_blobs(n_samples=100, centers=3, n_features=3, random_state=1)\n",
        "scalar = MinMaxScaler()\n",
        "scalar.fit(X)\n",
        "X = scalar.transform(X)\n",
        "# define and fit the final model\n",
        "model = Sequential()\n",
        "model.add(Dense(4, input_dim=3, activation='relu'))\n",
        "model.add(Dense(4, activation='relu'))\n",
        "model.add(Dense(2, activation='tanh'))\n",
        "model.compile(loss='binary_crossentropy', optimizer='adam')\n",
        "model.fit(X, y, epochs=500, verbose=0)\n",
        "# new instances where we do not know the answer\n",
        "Xnew, _ = make_blobs(n_samples=3, centers=3, n_features=3, random_state=0)\n",
        "Xnew = scalar.transform(Xnew)\n",
        "# make a prediction\n",
        "#ynew = model.predict_classes(Xnew)\n",
        "ynew = model.predict(Xnew)\n",
        "# show the inputs and predicted outputs\n",
        "for i in range(len(Xnew)):\n",
        "\tprint(\"X=%s, Predicted=%s\" % (Xnew[i], ynew[i]))"
      ],
      "execution_count": null,
      "outputs": [
        {
          "output_type": "stream",
          "text": [
            "X=[0.82111674 1.18220816 1.85372629], Predicted=[1. 1.]\n",
            "X=[1.23811175 0.51202353 1.3684676 ], Predicted=[1. 1.]\n",
            "X=[1.27040057 0.82733745 1.4675939 ], Predicted=[1. 1.]\n"
          ],
          "name": "stdout"
        }
      ]
    }
  ]
}